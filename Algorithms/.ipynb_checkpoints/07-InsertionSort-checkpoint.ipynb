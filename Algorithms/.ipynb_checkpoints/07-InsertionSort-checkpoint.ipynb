{
 "cells": [
  {
   "cell_type": "markdown",
   "metadata": {},
   "source": [
    "##### Set-up code"
   ]
  },
  {
   "cell_type": "code",
   "execution_count": 2,
   "metadata": {},
   "outputs": [],
   "source": [
    "from TestPackage.TestCode import *\n",
    "import numpy as np\n",
    "import pandas as pd\n",
    "import sys"
   ]
  },
  {
   "cell_type": "markdown",
   "metadata": {},
   "source": [
    "<br/>"
   ]
  },
  {
   "cell_type": "markdown",
   "metadata": {},
   "source": [
    "# Insertion Sort"
   ]
  },
  {
   "cell_type": "markdown",
   "metadata": {},
   "source": [
    "## Problem"
   ]
  },
  {
   "cell_type": "markdown",
   "metadata": {},
   "source": [
    ">The next sorting method we'll look at is insertion sort. This method works by building up a sorted array at the beginning of the list. It begins the sorted array with the first element. Then it inspects the next element and swaps it backwards into the sorted array until it is in sorted position. It continues iterating through the list and swapping new items backwards into the sorted portion until it reaches the end. This algorithm has quadratic time complexity in the average and worst cases.\n",
    "\n",
    ">**Instructions:** Write a function insertionSort which takes an array of integers as input and returns an array of these integers in sorted order from least to greatest.\n",
    "\n",
    "\n",
    "Source: [FreeCodeCamp - 24/05/2019](https://learn.freecodecamp.org/coding-interview-prep/algorithms/implement-insertion-sort)\n",
    "\n",
    "-----------"
   ]
  },
  {
   "cell_type": "markdown",
   "metadata": {},
   "source": [
    "## Solution"
   ]
  },
  {
   "cell_type": "code",
   "execution_count": 29,
   "metadata": {},
   "outputs": [],
   "source": [
    "def insertionSort(arr, axis = 'none'):\n",
    "    returnArr = []\n",
    "    check = False\n",
    "    returnType = ''\n",
    "    if type(arr) ==pd.core.frame.DataFrame:\n",
    "        rows, cols = arr.shape\n",
    "        arr = arr.values\n",
    "        returnType = 'DataFrame'\n",
    "    \n",
    "    if type(arr) == np.ndarray:\n",
    "        if axis == 'none':\n",
    "            arr = arr.flatten()\n",
    "        elif str(axis) == '0':\n",
    "            returnArr = np.zeros((len(arr[0]),1))\n",
    "            hSplit = np.hsplit(arr, len(arr[0]))\n",
    "            for aSlice in hSplit:\n",
    "                sortedSlice = np.reshape(insertionSort(aSlice), (aSlice.shape[0],1))\n",
    "                returnArr = np.hstack((returnArr, sortedSlice))\n",
    "            if returnType == 'DataFrame':\n",
    "                return pd.DataFrame((returnArr[:,1:]))\n",
    "            else:\n",
    "                check == True\n",
    "                return (returnArr[:,1:])\n",
    "        elif str(axis) == '1':\n",
    "            returnArr = np.zeros(len(arr))\n",
    "            vSplit = np.vsplit(arr, len(arr))\n",
    "            for aSlice in vSplit:\n",
    "                returnArr = np.vstack((returnArr, insertionSort(aSlice)))\n",
    "            if returnType == 'DataFrame':\n",
    "                return pd.DataFrame(returnArr[1:,:])\n",
    "            else:\n",
    "                check == True\n",
    "                return (returnArr[1:,:])\n",
    "    \n",
    "    if check == False:\n",
    "        for i in range(len(arr)):\n",
    "            returnArr.append(arr[i])\n",
    "            for j in range(len(returnArr)-1):\n",
    "                index = len(returnArr)-1 -j\n",
    "                returnArr[index]\n",
    "                if returnArr[index] < returnArr[index-1]:\n",
    "                    tempVal = returnArr[index-1]\n",
    "                    returnArr[index-1] = returnArr[index]\n",
    "                    returnArr[index] = tempVal\n",
    "        return returnArr"
   ]
  },
  {
   "cell_type": "code",
   "execution_count": 34,
   "metadata": {},
   "outputs": [],
   "source": [
    "def testBuffer(data):\n",
    "    aList = []\n",
    "    if type(data[0]) == int or type(data[0]) == np.int32:\n",
    "        return(insertionSort(data))\n",
    "    else:\n",
    "        arr,arg = data\n",
    "        return(insertionSort(arr,arg))"
   ]
  },
  {
   "cell_type": "code",
   "execution_count": 32,
   "metadata": {},
   "outputs": [],
   "source": [
    "testVals = [\n",
    "    ([9,8,7,6,5,4,3,2]),\n",
    "    ([123,46,3,78,2,3]),\n",
    "    np.array([34,68,13,64,86]),\n",
    "    (np.array([[3,2,1],[6,5,4], [9,8,7]]), '0'),\n",
    "    (np.array([[3,2,1],[6,5,4], [9,8,7]]), '1'),\n",
    "    ((pd.DataFrame([[3,2,1],[6,5,4], [9,8,7]])), '1'),\n",
    "]\n",
    "\n",
    "expectedResults=[\n",
    "    [2,3,4,5,6,7,8,9],\n",
    "    [2, 3, 3, 46, 78, 123],\n",
    "    np.array([13, 34, 64, 68, 86]),\n",
    "    np.array([[3, 2, 1],[6, 5, 4],[9, 8, 7]]),\n",
    "    np.array([[1., 2., 3.],[4., 5., 6.],[7., 8., 9.]]),\n",
    "    ((pd.DataFrame([[1,2,3],[4,5,6], [7,8,9]])))]\n",
    "\n",
    "results = testFunc(testVals, expectedResults, testBuffer)"
   ]
  },
  {
   "cell_type": "code",
   "execution_count": 33,
   "metadata": {},
   "outputs": [
    {
     "name": "stdout",
     "output_type": "stream",
     "text": [
      "Test 1 passes. \n",
      "Test 2 passes. \n",
      "Test 3 passes. \n",
      "Test 4 passes. \n",
      "Test 5 passes. \n",
      "Test 6 passes. \n",
      "\n"
     ]
    }
   ],
   "source": [
    "print(results.getLongResults())"
   ]
  },
  {
   "cell_type": "markdown",
   "metadata": {},
   "source": [
    "<br/>"
   ]
  }
 ],
 "metadata": {
  "kernelspec": {
   "display_name": "Python 3",
   "language": "python",
   "name": "python3"
  },
  "language_info": {
   "codemirror_mode": {
    "name": "ipython",
    "version": 3
   },
   "file_extension": ".py",
   "mimetype": "text/x-python",
   "name": "python",
   "nbconvert_exporter": "python",
   "pygments_lexer": "ipython3",
   "version": "3.7.2"
  }
 },
 "nbformat": 4,
 "nbformat_minor": 2
}
