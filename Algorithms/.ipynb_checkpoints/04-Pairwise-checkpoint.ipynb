{
 "cells": [
  {
   "cell_type": "markdown",
   "metadata": {},
   "source": [
    "##### Set-up code"
   ]
  },
  {
   "cell_type": "code",
   "execution_count": 1,
   "metadata": {},
   "outputs": [],
   "source": [
    "from TestPackage.TestCode import *\n",
    "import numpy as np\n",
    "import pandas as pd\n",
    "import sys"
   ]
  },
  {
   "cell_type": "markdown",
   "metadata": {},
   "source": [
    "<br/>"
   ]
  },
  {
   "cell_type": "markdown",
   "metadata": {},
   "source": [
    "# Pairwise"
   ]
  },
  {
   "cell_type": "markdown",
   "metadata": {},
   "source": [
    "## Problem"
   ]
  },
  {
   "cell_type": "markdown",
   "metadata": {},
   "source": [
    ">Given an array arr, find element pairs whose sum equal the second argument arg and return the sum of their indices.\n",
    "\n",
    ">You may use multiple pairs that have the same numeric elements but different indices. Each pair should use the lowest possible available indices. Once an element has been used it cannot be reused to pair with another element. For instance, pairwise([1, 1, 2], 3) creates a pair [2, 1] using the 1 at indice 0 rather than the 1 at indice 1, because 0+2 < 1+2.\n",
    "\n",
    ">For example pairwise([7, 9, 11, 13, 15], 20) returns 6. The pairs that sum to 20 are [7, 13] and [9, 11]. We can then write out the array with their indices and values.\n",
    "\n",
    "\n",
    ">| Index |0|1|2|3|4|\n",
    "|------|------|------|------|------|------|\n",
    "|   value  | 7| 9|11|13|15|\n",
    "\n",
    "> Below we'll take their corresponding indices and add them:\n",
    "\n",
    "\n",
    ">7 + 13 = 20 → Indices 0 + 3 = 3\n",
    "\n",
    ">9 + 11 = 20 → Indices 1 + 2 = 3\n",
    "\n",
    ">3 + 3 = 6 → Return 6\n",
    "\n",
    "Source: [FreeCodeCamp - 22/05/2019](https://learn.freecodecamp.org/coding-interview-prep/algorithms/pairwise)\n",
    "\n",
    "-----------"
   ]
  },
  {
   "cell_type": "markdown",
   "metadata": {},
   "source": [
    "## Solution"
   ]
  },
  {
   "cell_type": "code",
   "execution_count": 2,
   "metadata": {},
   "outputs": [],
   "source": [
    "def pairwise(arr, arg, axis = 'none'):\n",
    "    \n",
    "    indexList = []\n",
    "    indexSumList = []\n",
    "    indexSum = 0\n",
    "    \n",
    "    if type(arr) ==pd.core.frame.DataFrame:\n",
    "        arr = arr.values\n",
    "    \n",
    "    if type(arr) == np.ndarray:\n",
    "        if axis == 'none':\n",
    "            arr = arr.flatten()\n",
    "        \n",
    "        elif str(axis) == '0':\n",
    "            hSplit =np.hsplit(arr, len(arr[0]))\n",
    "            for k in range(len(hSplit)):\n",
    "                if type(arg) == int:\n",
    "                    tempArg = arg\n",
    "                elif len(arg) == len(hSplit):\n",
    "                    tempArg = arg[k]\n",
    "                else:\n",
    "                    print(\"Argument has the wrong dimensions\")\n",
    "                    return\n",
    "                indexSumList.append(pairwise(hSplit[k],tempArg))\n",
    "                return indexSumList\n",
    "        \n",
    "        elif str(axis) == '1':\n",
    "            vSplit =np.vsplit(arr, len(arr))\n",
    "            for k in range(len(vSplit)):\n",
    "                if type(arg) == int:\n",
    "                    tempArg = arg\n",
    "                elif len(arg) == len(vSplit):\n",
    "                    tempArg = arg[k]\n",
    "                else:\n",
    "                    print(\"Argument has the wrong dimensions\")\n",
    "                    return\n",
    "                indexSumList.append(pairwise(vSplit[k],tempArg))\n",
    "                return indexSumList\n",
    "    \n",
    "    arr = list(arr)\n",
    "    if type(arg) != int:\n",
    "        print(\"Argument has the wrong format. \\n Should be: int.\")\n",
    "    for i in range(len(arr)):\n",
    "        if i not in indexList:\n",
    "            for j in range(len(arr)):\n",
    "                if j != i and j not in indexList and i not in indexList:\n",
    "                    valueSum = arr[i] + arr[j]\n",
    "                    if valueSum == arg:\n",
    "                        indexList.append(i)\n",
    "                        indexList.append(j)\n",
    "                        indexSum+= i + j\n",
    "    \n",
    "    return indexSum"
   ]
  },
  {
   "cell_type": "code",
   "execution_count": 3,
   "metadata": {},
   "outputs": [],
   "source": [
    "def testBuffer(data):\n",
    "    arr,arg = data\n",
    "    return pairwise(arr,arg)"
   ]
  },
  {
   "cell_type": "code",
   "execution_count": 4,
   "metadata": {},
   "outputs": [],
   "source": [
    "testVals = [\n",
    "    ([1, 4, 2, 3, 0, 5],7),\n",
    "    ([1, 3, 2, 4],4),\n",
    "    ([1, 1, 1],2),\n",
    "    ([0, 0, 0, 0, 1, 1],1),\n",
    "    ([],100),\n",
    "    ([7, 9, 11, 13, 15],20)\n",
    "]\n",
    "\n",
    "expectedReturn = [11,1,1,10,0,6]\n",
    "results = testFunc(testVals,expectedReturn, testBuffer)"
   ]
  },
  {
   "cell_type": "code",
   "execution_count": 5,
   "metadata": {},
   "outputs": [
    {
     "name": "stdout",
     "output_type": "stream",
     "text": [
      "Test 1 passes. \n",
      "Test 2 passes. \n",
      "Test 3 passes. \n",
      "Test 4 passes. \n",
      "Test 5 passes. \n",
      "Test 6 passes. \n",
      "\n"
     ]
    }
   ],
   "source": [
    "print(results.getLongResults())"
   ]
  },
  {
   "cell_type": "code",
   "execution_count": 7,
   "metadata": {},
   "outputs": [
    {
     "data": {
      "text/plain": [
       "True"
      ]
     },
     "execution_count": 7,
     "metadata": {},
     "output_type": "execute_result"
    }
   ],
   "source": [
    "testArr = np.array([[1,2,3],[3,2,1], [3,1,2]])\n",
    "testDf = pd.DataFrame(testArr)\n",
    "return1 = pairwise(testArr,arg=[3,4,4], axis = 0)\n",
    "return2 = pairwise(testDf,arg=[3,4,4], axis = 0)\n",
    "return1 == return2"
   ]
  },
  {
   "cell_type": "markdown",
   "metadata": {},
   "source": [
    "<br/>"
   ]
  }
 ],
 "metadata": {
  "kernelspec": {
   "display_name": "Python 3",
   "language": "python",
   "name": "python3"
  },
  "language_info": {
   "codemirror_mode": {
    "name": "ipython",
    "version": 3
   },
   "file_extension": ".py",
   "mimetype": "text/x-python",
   "name": "python",
   "nbconvert_exporter": "python",
   "pygments_lexer": "ipython3",
   "version": "3.7.2"
  }
 },
 "nbformat": 4,
 "nbformat_minor": 2
}
