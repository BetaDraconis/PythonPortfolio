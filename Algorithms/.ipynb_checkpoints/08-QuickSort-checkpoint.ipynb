{
 "cells": [
  {
   "cell_type": "markdown",
   "metadata": {},
   "source": [
    "##### Set-up code"
   ]
  },
  {
   "cell_type": "code",
   "execution_count": 2,
   "metadata": {},
   "outputs": [],
   "source": [
    "from TestPackage.TestCode import *\n",
    "import numpy as np\n",
    "import pandas as pd\n",
    "import sys\n",
    "import copy"
   ]
  },
  {
   "cell_type": "markdown",
   "metadata": {},
   "source": [
    "<br/>"
   ]
  },
  {
   "cell_type": "markdown",
   "metadata": {},
   "source": [
    "# Quick Sort"
   ]
  },
  {
   "cell_type": "markdown",
   "metadata": {},
   "source": [
    "## Problem"
   ]
  },
  {
   "cell_type": "markdown",
   "metadata": {},
   "source": [
    ">Here we will move on to an intermediate sorting algorithm: quick sort. Quick sort is an efficient, recursive divide-and-conquer approach to sorting an array. In this method, a pivot value is chosen in the original array. The array is then partitioned into two subarrays of values less than and greater than the pivot value. We then combine the result of recursively calling the quick sort algorithm on both sub-arrays. This continues until the base case of an empty or single-item array is reached, which we return. The unwinding of the recursive calls return us the sorted array.\n",
    "\n",
    ">Quick sort is a very efficient sorting method, providing O(nlog(n)) performance on average. It is also relatively easy to implement. These attributes make it a popular and useful sorting method.\n",
    "\n",
    ">**Instructions:** Write a function quickSort which takes an array of integers as input and returns an array of these integers in sorted order from least to greatest. While the choice of the pivot value is important, any pivot will do for our purposes here. For simplicity, the first or last element could be used.\n",
    "\n",
    "\n",
    "Source: [FreeCodeCamp - 24/05/2019](https://learn.freecodecamp.org/coding-interview-prep/algorithms/implement-quick-sort)\n",
    "\n",
    "-----------"
   ]
  },
  {
   "cell_type": "markdown",
   "metadata": {},
   "source": [
    "## Solution"
   ]
  },
  {
   "cell_type": "code",
   "execution_count": 71,
   "metadata": {},
   "outputs": [],
   "source": [
    "def quickSort(arr, axis = 'none', returnList = [], state = -1):\n",
    "    tempArr1 = []\n",
    "    tempArr2 = []\n",
    "    arrLength = len(arr)\n",
    "    check = False\n",
    "    returnType = ''\n",
    "\n",
    "    if state == -1:\n",
    "        returnList = []\n",
    "        state+=1\n",
    "    \n",
    "    if type(arr) ==pd.core.frame.DataFrame:\n",
    "        arr = arr.values\n",
    "        returnType = 'DataFrame'\n",
    "    \n",
    "    if type(arr) == np.ndarray:\n",
    "        if axis == 'none':\n",
    "            arr = arr.flatten()\n",
    "        \n",
    "        elif str(axis) == '0':\n",
    "            returnArr = np.zeros((len(arr[0]),1))\n",
    "            hSplit = np.hsplit(arr, len(arr[0]))\n",
    "            for aSlice in hSplit:\n",
    "                sortedSlice = np.reshape(quickSort(aSlice), (aSlice.shape[0],1))\n",
    "                returnArr = np.hstack((returnArr, sortedSlice))\n",
    "            if returnType == 'DataFrame':\n",
    "                return pd.DataFrame((returnArr[:,1:]))\n",
    "            else:\n",
    "                check = True\n",
    "                return (returnArr[:,1:])\n",
    "        \n",
    "        elif str(axis) == '1':\n",
    "            returnArr = np.zeros(len(arr))\n",
    "            vSplit = np.vsplit(arr, len(arr))\n",
    "            for aSlice in vSplit:\n",
    "                returnArr = np.vstack((returnArr, quickSort(aSlice)))\n",
    "            if returnType == 'DataFrame':\n",
    "                return pd.DataFrame(returnArr[1:,:])\n",
    "            else:\n",
    "                check = True\n",
    "                return (returnArr[1:,:])   \n",
    "    \n",
    "    \n",
    "    if check==False:\n",
    "        if len(arr) != 0:\n",
    "            pivotValue = arr[int(arrLength/2)]\n",
    "            count = 0\n",
    "            for element in arr:\n",
    "                if element < pivotValue:\n",
    "                    tempArr1.append(element)\n",
    "                elif element > pivotValue:\n",
    "                    tempArr2.append(element)\n",
    "                else:\n",
    "                    if count == 0:\n",
    "                        tempArr1.append(element)\n",
    "                        count+=1\n",
    "                    else:\n",
    "                        tempArr2.append(element)\n",
    "                        count = 0\n",
    "                        \n",
    "            if len(tempArr1) <= 1:\n",
    "                returnList.append(tempArr1[0])\n",
    "                if len(tempArr2) > 0:\n",
    "                    quickSort(tempArr2, returnList = returnList, state = state)\n",
    "            \n",
    "            elif len(tempArr1) == arrLength:\n",
    "                tempVal = pivotValue\n",
    "                tempArr1[int(arrLength/2)] = tempArr1[0]\n",
    "                tempArr1[0] = tempVal\n",
    "                quickSort(tempArr1, returnList = returnList, state = state)\n",
    "           \n",
    "            else:\n",
    "                quickSort(tempArr1, returnList = returnList, state = state)\n",
    "                quickSort(tempArr2, returnList = returnList, state = state)\n",
    "                \n",
    "    return returnList"
   ]
  },
  {
   "cell_type": "code",
   "execution_count": 72,
   "metadata": {},
   "outputs": [],
   "source": [
    "def testBuffer(data):\n",
    "    aList = []\n",
    "    if type(data[0]) == int or type(data[0]) == np.int32:\n",
    "        return(quickSort(data))\n",
    "    else:\n",
    "        arr,arg = data\n",
    "        return(quickSort(arr,arg))"
   ]
  },
  {
   "cell_type": "code",
   "execution_count": 73,
   "metadata": {},
   "outputs": [],
   "source": [
    "testVals = [\n",
    "    ([9,8,7,6,5,4,3,2]),\n",
    "    ([123,46,3,78,2,3]),\n",
    "    np.array([34,68,13,64,86]),\n",
    "    (np.array([[3,2,1],[6,5,4], [9,8,7]]), '0'),\n",
    "    (np.array([[3,2,1],[6,5,4], [9,8,7]]), '1'),\n",
    "    ((pd.DataFrame([[3,2,1],[6,5,4], [9,8,7]])), '1'),\n",
    "]\n",
    "\n",
    "expectedResults=[\n",
    "    [2,3,4,5,6,7,8,9],\n",
    "    [2, 3, 3, 46, 78, 123],\n",
    "    np.array([13, 34, 64, 68, 86]),\n",
    "    np.array([[3, 2, 1],[6, 5, 4],[9, 8, 7]]),\n",
    "    np.array([[1., 2., 3.],[4., 5., 6.],[7., 8., 9.]]),\n",
    "    ((pd.DataFrame([[1,2,3],[4,5,6], [7,8,9]])))]\n",
    "\n",
    "results = testFunc(testVals, expectedResults, testBuffer)"
   ]
  },
  {
   "cell_type": "code",
   "execution_count": 74,
   "metadata": {},
   "outputs": [
    {
     "name": "stdout",
     "output_type": "stream",
     "text": [
      "Test 1 passes. \n",
      "Test 2 passes. \n",
      "Test 3 passes. \n",
      "Test 4 passes. \n",
      "Test 5 passes. \n",
      "Test 6 passes. \n",
      "\n"
     ]
    }
   ],
   "source": [
    "print(results.getLongResults())"
   ]
  },
  {
   "cell_type": "markdown",
   "metadata": {},
   "source": [
    "<br/>"
   ]
  }
 ],
 "metadata": {
  "kernelspec": {
   "display_name": "Python 3",
   "language": "python",
   "name": "python3"
  },
  "language_info": {
   "codemirror_mode": {
    "name": "ipython",
    "version": 3
   },
   "file_extension": ".py",
   "mimetype": "text/x-python",
   "name": "python",
   "nbconvert_exporter": "python",
   "pygments_lexer": "ipython3",
   "version": "3.7.2"
  }
 },
 "nbformat": 4,
 "nbformat_minor": 2
}
