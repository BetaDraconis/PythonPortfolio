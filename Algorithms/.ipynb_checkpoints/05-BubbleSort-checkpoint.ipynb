{
 "cells": [
  {
   "cell_type": "markdown",
   "metadata": {},
   "source": [
    "##### Set-up code"
   ]
  },
  {
   "cell_type": "code",
   "execution_count": 2,
   "metadata": {},
   "outputs": [],
   "source": [
    "from TestPackage.TestCode import *\n",
    "import numpy as np\n",
    "import pandas as pd\n",
    "import sys"
   ]
  },
  {
   "cell_type": "markdown",
   "metadata": {},
   "source": [
    "<br/>"
   ]
  },
  {
   "cell_type": "markdown",
   "metadata": {},
   "source": [
    "# Bubble Sort"
   ]
  },
  {
   "cell_type": "markdown",
   "metadata": {},
   "source": [
    "## Problem"
   ]
  },
  {
   "cell_type": "markdown",
   "metadata": {},
   "source": [
    ">This is the first of several challenges on sorting algorithms. Given an array of unsorted items, we want to be able to return a sorted array. We will see several different methods to do this and learn some tradeoffs between these different approaches. While most modern languages have built-in sorting methods for operations like this, it is still important to understand some of the common basic approaches and learn how they can be implemented.\n",
    "\n",
    ">Here we will see bubble sort. The bubble sort method starts at the beginning of an unsorted array and 'bubbles up' unsorted values towards the end, iterating through the array until it is completely sorted. It does this by comparing adjacent items and swapping them if they are out of order. The method continues looping through the array until no swaps occur at which point the array is sorted.\n",
    "\n",
    ">This method requires multiple iterations through the array and for average and worst cases has quadratic time complexity. While simple, it is usually impractical in most situations.\n",
    "\n",
    ">**Instructions:** Write a function bubbleSort which takes an array of integers as input and returns an array of these integers in sorted order from least to greatest.\n",
    "\n",
    "\n",
    "Source: [FreeCodeCamp - 22/05/2019](https://learn.freecodecamp.org/coding-interview-prep/algorithms/implement-bubble-sort)\n",
    "\n",
    "-----------"
   ]
  },
  {
   "cell_type": "markdown",
   "metadata": {},
   "source": [
    "## Solution"
   ]
  },
  {
   "cell_type": "code",
   "execution_count": 13,
   "metadata": {},
   "outputs": [],
   "source": [
    "def bubbleSort(arr, axis = 'none'):\n",
    "    returnArr = []\n",
    "    returnType = ''\n",
    "    check = False\n",
    "    \n",
    "    if type(arr) ==pd.core.frame.DataFrame:\n",
    "            rows, cols = arr.shape\n",
    "            arr = arr.values\n",
    "            returnType = 'DataFrame'\n",
    "    \n",
    "    if type(arr) == np.ndarray:\n",
    "        if axis == 'none':\n",
    "            arr = arr.flatten()\n",
    "        elif str(axis) == '0':\n",
    "            returnArr = np.zeros((len(arr[0]),1))\n",
    "            hSplit = np.hsplit(arr, len(arr[0]))\n",
    "            for aSlice in hSplit:\n",
    "                sortedSlice = np.reshape(bubbleSort(aSlice), (aSlice.shape[0],1))\n",
    "                returnArr = np.hstack((returnArr, sortedSlice))\n",
    "            if returnType == 'DataFrame':\n",
    "                return pd.DataFrame((returnArr[:,1:]))\n",
    "            else:\n",
    "                check == True\n",
    "                return (returnArr[:,1:])\n",
    "        elif str(axis) == '1':\n",
    "            returnArr = np.zeros(len(arr))\n",
    "            vSplit = np.vsplit(arr, len(arr))\n",
    "            for aSlice in vSplit:\n",
    "                returnArr = np.vstack((returnArr, bubbleSort(aSlice)))\n",
    "            if returnType == 'DataFrame':\n",
    "                return pd.DataFrame(returnArr[1:,:])\n",
    "            else:\n",
    "                check == True\n",
    "                return (returnArr[1:,:])\n",
    "    if check == False:\n",
    "        count = -1\n",
    "        while count !=0:\n",
    "            count = 0\n",
    "            for i in range(len(arr)-1):\n",
    "                if arr[i] > arr[i+1]:\n",
    "                    tempVal = arr[i]\n",
    "                    arr[i] = arr[i+1]\n",
    "                    arr[i+1] = tempVal\n",
    "                    count+=1\n",
    "        return(arr)"
   ]
  },
  {
   "cell_type": "code",
   "execution_count": 28,
   "metadata": {},
   "outputs": [],
   "source": [
    "def testBuffer(data):\n",
    "    aList = []\n",
    "    if type(data[0]) == int or type(data[0]) == np.int32:\n",
    "        return(bubbleSort(data))\n",
    "    else:\n",
    "        arr,arg = data\n",
    "        return(bubbleSort(arr,arg))"
   ]
  },
  {
   "cell_type": "code",
   "execution_count": 29,
   "metadata": {},
   "outputs": [],
   "source": [
    "testVals = [\n",
    "    ([9,8,7,6,5,4,3,2]),\n",
    "    ([123,46,3,78,2,3]),\n",
    "    np.array([34,68,13,64,86]),\n",
    "    (np.array([[3,2,1],[6,5,4], [9,8,7]]), '0'),\n",
    "    (np.array([[3,2,1],[6,5,4], [9,8,7]]), '1'),\n",
    "    ((pd.DataFrame([[3,2,1],[6,5,4], [9,8,7]])), '1'),\n",
    "]\n",
    "\n",
    "expectedResults=[\n",
    "    [2,3,4,5,6,7,8,9],\n",
    "    [2, 3, 3, 46, 78, 123],\n",
    "    np.array([13, 34, 64, 68, 86]),\n",
    "    np.array([[3, 2, 1],[6, 5, 4],[9, 8, 7]]),\n",
    "    np.array([[1., 2., 3.],[4., 5., 6.],[7., 8., 9.]]),\n",
    "    ((pd.DataFrame([[1,2,3],[4,5,6], [7,8,9]])))]\n",
    "\n",
    "results = testFunc(testVals, expectedResults, testBuffer)"
   ]
  },
  {
   "cell_type": "code",
   "execution_count": 30,
   "metadata": {},
   "outputs": [
    {
     "name": "stdout",
     "output_type": "stream",
     "text": [
      "Test 1 passes. \n",
      "Test 2 passes. \n",
      "Test 3 passes. \n",
      "Test 4 passes. \n",
      "Test 5 passes. \n",
      "Test 6 passes. \n",
      "\n"
     ]
    }
   ],
   "source": [
    "print(results.getLongResults())"
   ]
  },
  {
   "cell_type": "code",
   "execution_count": 27,
   "metadata": {},
   "outputs": [
    {
     "data": {
      "text/plain": [
       "3"
      ]
     },
     "execution_count": 27,
     "metadata": {},
     "output_type": "execute_result"
    }
   ],
   "source": [
    "testArr.shape[0]"
   ]
  },
  {
   "cell_type": "markdown",
   "metadata": {},
   "source": [
    "<br/>"
   ]
  }
 ],
 "metadata": {
  "kernelspec": {
   "display_name": "Python 3",
   "language": "python",
   "name": "python3"
  },
  "language_info": {
   "codemirror_mode": {
    "name": "ipython",
    "version": 3
   },
   "file_extension": ".py",
   "mimetype": "text/x-python",
   "name": "python",
   "nbconvert_exporter": "python",
   "pygments_lexer": "ipython3",
   "version": "3.7.2"
  }
 },
 "nbformat": 4,
 "nbformat_minor": 2
}
