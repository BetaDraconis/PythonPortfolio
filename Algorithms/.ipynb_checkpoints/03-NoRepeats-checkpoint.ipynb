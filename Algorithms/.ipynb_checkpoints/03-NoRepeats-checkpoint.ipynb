{
 "cells": [
  {
   "cell_type": "markdown",
   "metadata": {},
   "source": [
    "##### Set-up code"
   ]
  },
  {
   "cell_type": "code",
   "execution_count": 1,
   "metadata": {},
   "outputs": [],
   "source": [
    "from TestPackage.TestCode import *\n",
    "import numpy as np\n",
    "import pandas as pd\n",
    "import sys\n",
    "import math"
   ]
  },
  {
   "cell_type": "markdown",
   "metadata": {},
   "source": [
    "<br/>"
   ]
  },
  {
   "cell_type": "markdown",
   "metadata": {},
   "source": [
    "# No Repeats Please"
   ]
  },
  {
   "cell_type": "markdown",
   "metadata": {},
   "source": [
    "## Problem"
   ]
  },
  {
   "cell_type": "markdown",
   "metadata": {},
   "source": [
    ">Return the number of total permutations of the provided string that don't have repeated consecutive letters. Assume that all characters in the provided string are each unique.\n",
    "\n",
    ">For example, aab should return 2 because it has 6 total permutations (aab, aab, aba, aba, baa, baa), but only 2 of them (aba and aba) don't have the same letter (in this case a) repeating.\n",
    "\n",
    "Source: [FreeCodeCamp - 17/05/2019](https://learn.freecodecamp.org/coding-interview-prep/algorithms/no-repeats-please)\n",
    "\n",
    "-----------"
   ]
  },
  {
   "cell_type": "markdown",
   "metadata": {},
   "source": [
    "## Solution"
   ]
  },
  {
   "cell_type": "code",
   "execution_count": 2,
   "metadata": {},
   "outputs": [],
   "source": [
    "def noRepeats(string, word = '', charList = [], wordList = [], count = -1):\n",
    "    \n",
    "    if len(string) == 0:\n",
    "        return ['']\n",
    "   \n",
    "    else:\n",
    "        if count == -1:\n",
    "            charList = list(string)\n",
    "            wordList.clear()\n",
    "            count+=1    \n",
    "\n",
    "        elif len(charList) == 0:\n",
    "            count+=1\n",
    "            if count == len(string):\n",
    "                wordList.append(word)\n",
    "                return wordList\n",
    "            else:\n",
    "                wordList.append(word)\n",
    "\n",
    "        for char in charList:\n",
    "            word+=char\n",
    "            tempList = charList.copy()\n",
    "            tempList.remove(char)\n",
    "            noRepeats(string, word, tempList, wordList, count)\n",
    "            count+=1\n",
    "            word =word[0:len(word)-1]\n",
    "    \n",
    "    return countFunc(wordList)"
   ]
  },
  {
   "cell_type": "code",
   "execution_count": 3,
   "metadata": {},
   "outputs": [],
   "source": [
    "def countFunc(wordList):\n",
    "    count = 0\n",
    "    for word in wordList:\n",
    "        repeat = False\n",
    "        for i in range(len(word)-1):\n",
    "            if word[i] == word[i+1]:\n",
    "                repeat = True\n",
    "        if repeat == False:\n",
    "            count+=1\n",
    "    return count"
   ]
  },
  {
   "cell_type": "code",
   "execution_count": 4,
   "metadata": {},
   "outputs": [],
   "source": [
    "#testVals = [\"aab\", \"aaa\", \"aabb\", \"abcdefa\", \"abfdefa\", \"zzzzzzzz\", \"a\", \"aaab\", \"aaabb\"]\n",
    "#expectedReturn = [2,0,8,3600,2640,0,1,0,12]\n",
    "\n",
    "#results = testFunc(testVals, expectedReturn, noRepeats)\n",
    "#print(results.getLongResults())"
   ]
  },
  {
   "cell_type": "code",
   "execution_count": 5,
   "metadata": {},
   "outputs": [
    {
     "data": {
      "text/plain": [
       "0"
      ]
     },
     "execution_count": 5,
     "metadata": {},
     "output_type": "execute_result"
    }
   ],
   "source": [
    "noRepeats('aa')"
   ]
  },
  {
   "cell_type": "markdown",
   "metadata": {},
   "source": [
    "<br/>"
   ]
  }
 ],
 "metadata": {
  "kernelspec": {
   "display_name": "Python 3",
   "language": "python",
   "name": "python3"
  },
  "language_info": {
   "codemirror_mode": {
    "name": "ipython",
    "version": 3
   },
   "file_extension": ".py",
   "mimetype": "text/x-python",
   "name": "python",
   "nbconvert_exporter": "python",
   "pygments_lexer": "ipython3",
   "version": "3.7.2"
  }
 },
 "nbformat": 4,
 "nbformat_minor": 2
}
