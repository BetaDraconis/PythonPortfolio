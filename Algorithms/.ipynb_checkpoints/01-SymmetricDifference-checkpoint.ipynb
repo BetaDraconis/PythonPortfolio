{
 "cells": [
  {
   "cell_type": "markdown",
   "metadata": {},
   "source": [
    "##### Set-up code"
   ]
  },
  {
   "cell_type": "code",
   "execution_count": 1,
   "metadata": {},
   "outputs": [],
   "source": [
    "from TestPackage.TestCode import *\n",
    "import numpy as np\n",
    "import pandas as pd\n",
    "import sys"
   ]
  },
  {
   "cell_type": "markdown",
   "metadata": {},
   "source": [
    "<br/>"
   ]
  },
  {
   "cell_type": "markdown",
   "metadata": {},
   "source": [
    "# Find the Symmetric Difference"
   ]
  },
  {
   "cell_type": "markdown",
   "metadata": {},
   "source": [
    "## Problem"
   ]
  },
  {
   "cell_type": "markdown",
   "metadata": {},
   "source": [
    ">Create a function that takes two or more arrays and returns an array of the symmetric difference (△ or ⊕) of the provided arrays.\n",
    ">\n",
    ">Given two sets (for example set A = {1, 2, 3} and set B = {2, 3, 4}), the mathematical term \"symmetric difference\" of two sets is the set of elements which are in either of the two sets, but not in both (A △ B = C = {1, 4}). For every additional symmetric difference you take (say on a set D = {2, 3}), you should get the set with elements which are in either of the two the sets but not both (C △ D = {1, 4} △ {2, 3} = {1, 2, 3, 4}). The resulting array must contain only unique values (no duplicates).\n",
    "\n",
    "Source: [FreeCodeCamp - 13/05/2019](https://learn.freecodecamp.org/coding-interview-prep/algorithms/find-the-symmetric-difference)\n",
    "\n",
    "\n",
    "-----------"
   ]
  },
  {
   "cell_type": "markdown",
   "metadata": {},
   "source": [
    "## Solution"
   ]
  },
  {
   "cell_type": "code",
   "execution_count": 2,
   "metadata": {},
   "outputs": [],
   "source": [
    "def symmDif(arrays, axis = 'none'):\n",
    "    symmSet = set()\n",
    "    for array in arrays:\n",
    "        tempSet = set()\n",
    "        if type(array) ==pd.core.frame.DataFrame:\n",
    "            array = array.values\n",
    "        if type(array) == np.ndarray:\n",
    "            if axis == 'none':\n",
    "                array = array.flatten()\n",
    "            elif str(axis) == '0':\n",
    "                tempSet = symmDif(np.hsplit(array, len(array[0])))\n",
    "            elif str(axis) == '1':\n",
    "                tempSet = symmDif(np.vsplit(array, len(array)))\n",
    "        elif type(array) == list:\n",
    "            array = listToArray(array)\n",
    "        elif type(array) ==pd.core.series.Series:\n",
    "            array = array.values\n",
    "            array = listToArray(array)\n",
    "        else:\n",
    "            print(\"Unsupported input type. Please use a list or an array\")\n",
    "            return symmSet \n",
    "        if tempSet == set():    \n",
    "            for element in array:\n",
    "                tempSet.add(element)\n",
    "        symmSet= tempSet.difference(symmSet).union(symmSet.difference(tempSet))\n",
    "    return symmSet"
   ]
  },
  {
   "cell_type": "code",
   "execution_count": 3,
   "metadata": {},
   "outputs": [],
   "source": [
    "def listToArray(aList):\n",
    "    anArray = np.asarray([])\n",
    "    for element in aList:\n",
    "        if type(element) == list:\n",
    "            anArray = np.hstack((anArray,listToArray(element)))\n",
    "        else:\n",
    "            anArray = np.hstack((anArray,np.asarray([element])))\n",
    "    return anArray"
   ]
  },
  {
   "cell_type": "markdown",
   "metadata": {},
   "source": [
    "-----------"
   ]
  },
  {
   "cell_type": "markdown",
   "metadata": {},
   "source": [
    "## Results"
   ]
  },
  {
   "cell_type": "code",
   "execution_count": 4,
   "metadata": {},
   "outputs": [
    {
     "name": "stdout",
     "output_type": "stream",
     "text": [
      "7 tests run, 7 test passes, 0 test fails.\n"
     ]
    }
   ],
   "source": [
    "testVals = [\n",
    "            ([[1, 2, 3], [5, 2, 1, 4]]), \n",
    "            ([1, 2, 3, 3], [5, 2, 1, 4]),\n",
    "            ([1, 2, 3], [5, 2, 1, 4, 5]),\n",
    "            ([1, 2, 5], [2, 3, 5], [3, 4, 5]),\n",
    "            ([1, 1, 2, 5], [2, 2, 3, 5], [3, 4, 5, 5]),\n",
    "            ([3, 3, 3, 2, 5], [2, 1, 5, 7], [3, 4, 6, 6], [1, 2, 3]),\n",
    "            ([3, 3, 3, 2, 5], [2, 1, 5, 7], [3, 4, 6, 6], [1, 2, 3], [5, 3, 9, 8], [1])\n",
    "            ] \n",
    "\n",
    "expectedResults = [\n",
    "            {3, 4.0, 5},\n",
    "            {3, 4.0, 5},\n",
    "            {3, 4.0, 5},\n",
    "            {1, 4, 5},\n",
    "            {1, 4, 5},\n",
    "            {2, 3, 4, 6, 7},\n",
    "            {1, 2, 4, 5, 6, 7, 8, 9}\n",
    "]\n",
    "\n",
    "results = testFunc(testVals, expectedResults, symmDif)\n",
    "print(results.getTestResults())"
   ]
  },
  {
   "cell_type": "markdown",
   "metadata": {},
   "source": [
    "<br/>"
   ]
  }
 ],
 "metadata": {
  "kernelspec": {
   "display_name": "Python 3",
   "language": "python",
   "name": "python3"
  },
  "language_info": {
   "codemirror_mode": {
    "name": "ipython",
    "version": 3
   },
   "file_extension": ".py",
   "mimetype": "text/x-python",
   "name": "python",
   "nbconvert_exporter": "python",
   "pygments_lexer": "ipython3",
   "version": "3.7.2"
  }
 },
 "nbformat": 4,
 "nbformat_minor": 2
}
