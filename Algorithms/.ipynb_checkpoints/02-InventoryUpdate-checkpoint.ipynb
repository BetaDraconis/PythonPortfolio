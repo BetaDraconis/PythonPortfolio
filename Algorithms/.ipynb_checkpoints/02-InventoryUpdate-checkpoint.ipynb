{
 "cells": [
  {
   "cell_type": "markdown",
   "metadata": {},
   "source": [
    "##### Set-up code"
   ]
  },
  {
   "cell_type": "code",
   "execution_count": 1,
   "metadata": {},
   "outputs": [],
   "source": [
    "from TestPackage.TestCode import *\n",
    "import numpy as np\n",
    "import pandas as pd\n",
    "import sys"
   ]
  },
  {
   "cell_type": "markdown",
   "metadata": {},
   "source": [
    "<br/>"
   ]
  },
  {
   "cell_type": "markdown",
   "metadata": {},
   "source": [
    "# Inventory Update"
   ]
  },
  {
   "cell_type": "markdown",
   "metadata": {},
   "source": [
    "## Problem"
   ]
  },
  {
   "cell_type": "markdown",
   "metadata": {},
   "source": [
    ">Compare and update the inventory stored in a 2D array against a second 2D array of a fresh delivery. Update the current existing inventory item quantities (in arr1). If an item cannot be found, add the new item and quantity into the inventory array. The returned inventory array should be in alphabetical order by item.\n",
    "\n",
    "Source: [FreeCodeCamp - 15/05/2019](https://learn.freecodecamp.org/coding-interview-prep/algorithms/inventory-update)\n",
    "\n",
    "-----------"
   ]
  },
  {
   "cell_type": "markdown",
   "metadata": {},
   "source": [
    "## Solutions:"
   ]
  },
  {
   "cell_type": "markdown",
   "metadata": {},
   "source": [
    "### OOP"
   ]
  },
  {
   "cell_type": "code",
   "execution_count": 2,
   "metadata": {},
   "outputs": [],
   "source": [
    "class InventoryItem:\n",
    "    def __init__(self, itemAmount, itemName):\n",
    "        self.itemName = itemName\n",
    "        self.itemAmount = itemAmount\n",
    "    \n",
    "    def getItemName(self):\n",
    "        return self.itemName\n",
    "    \n",
    "    def getItemAmount(self):\n",
    "        return self.itemAmount\n",
    "    \n",
    "    def updateItemAmount(self, updateValue):\n",
    "        self.itemAmount += updateValue\n",
    "        \n",
    "    def getItem(self):\n",
    "        return [self.itemAmount, self.itemName]"
   ]
  },
  {
   "cell_type": "code",
   "execution_count": 3,
   "metadata": {},
   "outputs": [],
   "source": [
    "class InventoryList:\n",
    "    def __init__(self,itemList):\n",
    "        self.itemList = itemList\n",
    "   \n",
    "    def getItemList(self):\n",
    "        return self.itemList\n",
    "    \n",
    "    def sortItemList(self):\n",
    "        self.itemList.sort(key=sortKey)\n",
    "    \n",
    "    def getItemListPlain(self):\n",
    "        plainList = []\n",
    "        for item in self.itemList:\n",
    "            plainList.append([item.getItemAmount(), item.getItemName()])\n",
    "        return plainList\n",
    "    \n",
    "    def addNewItem(self, item):\n",
    "        self.itemList.append(item)\n",
    "    \n",
    "    def updateItemList(self, updateInventory):\n",
    "        updateList = updateInventory.getItemList()\n",
    "        for newItem in updateList:\n",
    "            check = False\n",
    "            newItemName = newItem.getItemName()\n",
    "            newItemAmount = newItem.getItemAmount()\n",
    "            for item in self.itemList:\n",
    "                itemName = item.getItemName()\n",
    "                itemAmount = item.getItemAmount()\n",
    "                if newItemName == itemName:\n",
    "                    item.updateItemAmount(newItemAmount)\n",
    "                    check = True\n",
    "            if check == False:\n",
    "                self.addNewItem(newItem)    \n",
    "        self.sortItemList()"
   ]
  },
  {
   "cell_type": "code",
   "execution_count": 4,
   "metadata": {},
   "outputs": [],
   "source": [
    "def listToObject(itemList):\n",
    "    inventoryList = []\n",
    "    for i in itemList:\n",
    "        item = InventoryItem(i[0], i[1])\n",
    "        inventoryList.append(item)\n",
    "    return InventoryList(inventoryList)"
   ]
  },
  {
   "cell_type": "code",
   "execution_count": 5,
   "metadata": {},
   "outputs": [],
   "source": [
    "def invUpdateOOP(data):\n",
    "    currVals, updateVals = data\n",
    "    currInventory = listToObject(currVals)\n",
    "    updateInventory = listToObject(updateVals)\n",
    "    currInventory.updateItemList(updateInventory)\n",
    "    return currInventory.getItemListPlain()"
   ]
  },
  {
   "cell_type": "markdown",
   "metadata": {},
   "source": [
    "### Pandas"
   ]
  },
  {
   "cell_type": "code",
   "execution_count": 6,
   "metadata": {},
   "outputs": [],
   "source": [
    "def invUpdatePandas(currValsArr, updateValsArr):\n",
    "    currDf = pd.DataFrame(data =currValsArr ,columns = ['Item Amount', 'Item Name'])\n",
    "    updateDf = pd.DataFrame(data =updateValsArr ,columns = ['Item Amount', 'Item Name'])\n",
    "    newDf = pd.merge(currDf, updateDf, on='Item Name', how = 'outer')\n",
    "    newDf.fillna(value = 0, inplace = True)\n",
    "    newDf['Item Amount'] = newDf['Item Amount_x'] + newDf['Item Amount_y']\n",
    "    newDf = newDf.drop(['Item Amount_x', 'Item Amount_y'], axis = 1).sort_values(by=['Item Name']).set_index('Item Name')\n",
    "    return newDf"
   ]
  },
  {
   "cell_type": "code",
   "execution_count": 7,
   "metadata": {},
   "outputs": [],
   "source": [
    "def testBufferPandas(data):\n",
    "    currValsArr, updateValsArr = data\n",
    "    return invUpdatePandas(currValsArr, updateValsArr)"
   ]
  },
  {
   "cell_type": "markdown",
   "metadata": {},
   "source": [
    "-----------"
   ]
  },
  {
   "cell_type": "markdown",
   "metadata": {},
   "source": [
    "## Results"
   ]
  },
  {
   "cell_type": "code",
   "execution_count": 8,
   "metadata": {},
   "outputs": [],
   "source": [
    "testCurrVals = [\n",
    "            ([[21, \"Bowling Ball\"], [2, \"Dirty Sock\"], [1, \"Hair Pin\"], [5, \"Microphone\"]]), \n",
    "            ([[21, \"Bowling Ball\"], [2, \"Dirty Sock\"], [1, \"Hair Pin\"], [5, \"Microphone\"]]),\n",
    "            ([]),\n",
    "            ([[0, \"Bowling Ball\"], [0, \"Dirty Sock\"], [0, \"Hair Pin\"], [0, \"Microphone\"]]),\n",
    "            ] \n",
    "\n",
    "testUpdateVals = [\n",
    "            ([[2, \"Hair Pin\"], [3, \"Half-Eaten Apple\"], [67, \"Bowling Ball\"], [7, \"Toothpaste\"]]), \n",
    "            ([]),\n",
    "            ([[2, \"Hair Pin\"], [3, \"Half-Eaten Apple\"], [67, \"Bowling Ball\"], [7, \"Toothpaste\"]]),\n",
    "            ([[1, \"Hair Pin\"], [1, \"Half-Eaten Apple\"], [1, \"Bowling Ball\"], [1, \"Toothpaste\"]]),\n",
    "            ] \n",
    "\n",
    "expectedReturn = [\n",
    "            ([[88, \"Bowling Ball\"], [2, \"Dirty Sock\"], [3, \"Hair Pin\"], [3, \"Half-Eaten Apple\"], [5, \"Microphone\"], [7, \"Toothpaste\"]]), \n",
    "            ([[21, \"Bowling Ball\"], [2, \"Dirty Sock\"], [1, \"Hair Pin\"], [5, \"Microphone\"]]),\n",
    "            ([[67, \"Bowling Ball\"], [2, \"Hair Pin\"], [3, \"Half-Eaten Apple\"], [7, \"Toothpaste\"]]),\n",
    "            ([[1, \"Bowling Ball\"], [0, \"Dirty Sock\"], [1, \"Hair Pin\"], [1, \"Half-Eaten Apple\"], [0, \"Microphone\"], [1, \"Toothpaste\"]]),\n",
    "            ] \n",
    "  \n",
    "currValsArr = np.array(testCurrVals)\n",
    "updateValsArr = np.asarray(testUpdateVals)\n",
    "currValsArr = np.reshape(currValsArr, (4,1))\n",
    "updateValsArr = np.reshape(updateValsArr, (4,1))\n",
    "resultValsArr = np.array(expectedReturn)\n",
    "resultValsArr = np.reshape(resultValsArr, (4,1))\n",
    "testVals = np.hstack((currValsArr,updateValsArr))\n",
    "\n",
    "expectedReturnDf = []\n",
    "for i in range(len(resultValsArr)):    \n",
    "    tempDf = pd.DataFrame(resultValsArr[i,0],columns = ['Item Amount', 'Item Name']).set_index('Item Name')\n",
    "    expectedReturnDf.append(tempDf)"
   ]
  },
  {
   "cell_type": "code",
   "execution_count": 9,
   "metadata": {},
   "outputs": [
    {
     "name": "stdout",
     "output_type": "stream",
     "text": [
      "OOP:\n",
      "Test 1 passes. \n",
      "Test 2 passes. \n",
      "Test 3 passes. \n",
      "Test 4 passes. \n",
      "\n",
      "Pandas:\n",
      "Test 1 passes. \n",
      "Test 2 passes. \n",
      "Test 3 passes. \n",
      "Test 4 passes. \n",
      "\n"
     ]
    }
   ],
   "source": [
    "def sortKey(item):\n",
    "    return item.getItemName()     \n",
    "\n",
    "resultsOOP = testFunc(testVals, expectedReturn, invUpdateOOP)\n",
    "print(\"OOP:\")\n",
    "print(resultsOOP.getLongResults())\n",
    "resultsPandas = testFunc(testVals, expectedReturnDf, testBufferPandas)\n",
    "print(\"Pandas:\")\n",
    "print(resultsPandas.getLongResults())"
   ]
  },
  {
   "cell_type": "markdown",
   "metadata": {},
   "source": [
    "<br/>"
   ]
  }
 ],
 "metadata": {
  "kernelspec": {
   "display_name": "Python 3",
   "language": "python",
   "name": "python3"
  },
  "language_info": {
   "codemirror_mode": {
    "name": "ipython",
    "version": 3
   },
   "file_extension": ".py",
   "mimetype": "text/x-python",
   "name": "python",
   "nbconvert_exporter": "python",
   "pygments_lexer": "ipython3",
   "version": "3.7.2"
  }
 },
 "nbformat": 4,
 "nbformat_minor": 2
}
