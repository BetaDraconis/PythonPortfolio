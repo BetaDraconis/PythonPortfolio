{
 "cells": [
  {
   "cell_type": "markdown",
   "metadata": {},
   "source": [
    "# Test code"
   ]
  },
  {
   "cell_type": "code",
   "execution_count": 1,
   "metadata": {},
   "outputs": [],
   "source": [
    "import numpy as np\n",
    "import pandas as pd\n",
    "import sys"
   ]
  },
  {
   "cell_type": "code",
   "execution_count": 1,
   "metadata": {},
   "outputs": [],
   "source": [
    "def testFunc(testVals, testResults, func):\n",
    "    longResults = ''\n",
    "    passCount = 0\n",
    "    failCount = 0\n",
    "    for i in range (len(testVals)):\n",
    "        try:\n",
    "            if type(testResults[i]) == pd.core.frame.DataFrame:\n",
    "                pd.testing.assert_frame_equal(func(testVals[i]), testResults[i], check_dtype = False)\n",
    "            elif type(testResults[i]) == np.ndarray:\n",
    "                assert((func(testVals[i]) == testResults[i]).all() == True)\n",
    "            else:\n",
    "                assert(func(testVals[i]) == testResults[i])\n",
    "            longResults+=(\"Test {} passes. \\n\".format(i+1))\n",
    "            passCount+=1\n",
    "        except Exception:\n",
    "            etype, value, tb = sys.exc_info()\n",
    "            longResults+=(\"Test {} fails due to {}. \\n\".format(i+1, etype))\n",
    "            failCount+=1\n",
    "    results = Results(len(testVals), passCount, failCount, longResults)\n",
    "    return results"
   ]
  },
  {
   "cell_type": "code",
   "execution_count": 2,
   "metadata": {},
   "outputs": [],
   "source": [
    "class Results:\n",
    "    def __init__(self, testTotal, testPass, testFail, longResults):\n",
    "        self.testTotal =testTotal\n",
    "        self.testPass = testPass\n",
    "        self.testFail = testFail\n",
    "        self.longResults = longResults\n",
    "        \n",
    "    def getTestTotal(self):\n",
    "        return self.testTotal\n",
    "    \n",
    "    def getTestFail(self):\n",
    "        return self.testFail\n",
    "    \n",
    "    def getTestPass(self):\n",
    "        return self.testPass\n",
    "    \n",
    "    def getTestResults(self):\n",
    "        return \"{} tests run, {} test passes, {} test fails.\".format(self.testTotal, self.testPass, self.testFail)\n",
    "    \n",
    "    def getLongResults(self):\n",
    "        return self.longResults"
   ]
  },
  {
   "cell_type": "markdown",
   "metadata": {},
   "source": [
    "<br/>"
   ]
  }
 ],
 "metadata": {
  "kernelspec": {
   "display_name": "Python 3",
   "language": "python",
   "name": "python3"
  },
  "language_info": {
   "codemirror_mode": {
    "name": "ipython",
    "version": 3
   },
   "file_extension": ".py",
   "mimetype": "text/x-python",
   "name": "python",
   "nbconvert_exporter": "python",
   "pygments_lexer": "ipython3",
   "version": "3.7.2"
  }
 },
 "nbformat": 4,
 "nbformat_minor": 2
}
