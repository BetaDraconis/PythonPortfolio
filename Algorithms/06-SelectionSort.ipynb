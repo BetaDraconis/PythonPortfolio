{
 "cells": [
  {
   "cell_type": "markdown",
   "metadata": {},
   "source": [
    "##### Set-up code"
   ]
  },
  {
   "cell_type": "code",
   "execution_count": 31,
   "metadata": {},
   "outputs": [],
   "source": [
    "from TestPackage.TestCode import *\n",
    "import numpy as np\n",
    "import pandas as pd\n",
    "import sys"
   ]
  },
  {
   "cell_type": "markdown",
   "metadata": {},
   "source": [
    "<br/>"
   ]
  },
  {
   "cell_type": "markdown",
   "metadata": {},
   "source": [
    "# Selection Sort"
   ]
  },
  {
   "cell_type": "markdown",
   "metadata": {},
   "source": [
    "## Problem"
   ]
  },
  {
   "cell_type": "markdown",
   "metadata": {},
   "source": [
    ">Here we will implement selection sort. Selection sort works by selecting the minimum value in a list and swapping it with the first value in the list. It then starts at the second position, selects the smallest value in the remaining list, and swaps it with the second element. It continues iterating through the list and swapping elements until it reaches the end of the list. Now the list is sorted. Selection sort has quadratic time complexity in all cases.\n",
    "\n",
    ">**Instructions:** Write a function selectionSort which takes an array of integers as input and returns an array of these integers in sorted order from least to greatest.\n",
    "\n",
    "\n",
    "Source: [FreeCodeCamp - 24/05/2019](https://learn.freecodecamp.org/coding-interview-prep/algorithms/implement-selection-sort)\n",
    "\n",
    "-----------"
   ]
  },
  {
   "cell_type": "markdown",
   "metadata": {},
   "source": [
    "## Solution"
   ]
  },
  {
   "cell_type": "code",
   "execution_count": 32,
   "metadata": {},
   "outputs": [],
   "source": [
    "def selectionSort(arr, axis = 'none'):\n",
    "    sortedArr = []\n",
    "    check = False\n",
    "    returnType = ''\n",
    "    if type(arr) ==pd.core.frame.DataFrame:\n",
    "        rows, cols = arr.shape\n",
    "        arr = arr.values\n",
    "        returnType = 'DataFrame'\n",
    "    \n",
    "    if type(arr) == np.ndarray:\n",
    "        if axis == 'none':\n",
    "            arr = arr.flatten()\n",
    "        elif str(axis) == '0':\n",
    "            returnArr = np.zeros((len(arr[0]),1))\n",
    "            hSplit = np.hsplit(arr, len(arr[0]))\n",
    "            for aSlice in hSplit:\n",
    "                sortedSlice = np.reshape(selectionSort(aSlice), (aSlice.shape[0],1))\n",
    "                returnArr = np.hstack((returnArr, sortedSlice))\n",
    "            if returnType == 'DataFrame':\n",
    "                return pd.DataFrame((returnArr[:,1:]))\n",
    "            else:\n",
    "                check == True\n",
    "                return (returnArr[:,1:])\n",
    "        elif str(axis) == '1':\n",
    "            returnArr = np.zeros(len(arr))\n",
    "            vSplit = np.vsplit(arr, len(arr))\n",
    "            for aSlice in vSplit:\n",
    "                returnArr = np.vstack((returnArr, selectionSort(aSlice)))\n",
    "            if returnType == 'DataFrame':\n",
    "                return pd.DataFrame(returnArr[1:,:])\n",
    "            else:\n",
    "                check == True\n",
    "                return (returnArr[1:,:])\n",
    "    \n",
    "    if check == False:\n",
    "        for i in range(len(arr)-1):\n",
    "            tempArr = arr[i:]\n",
    "            tempMin = tempArr[0]\n",
    "            minIndex = 0\n",
    "            for j in range(len(tempArr)):\n",
    "                if tempArr[j] < tempMin:\n",
    "                    tempMin = tempArr[j]\n",
    "                    minIndex = j\n",
    "            tempVal = arr[i]\n",
    "            arr[i] = tempArr[minIndex]\n",
    "            arr[minIndex+i] = tempVal\n",
    "        return arr"
   ]
  },
  {
   "cell_type": "code",
   "execution_count": 33,
   "metadata": {},
   "outputs": [],
   "source": [
    "def testBuffer(data):\n",
    "    aList = []\n",
    "    if type(data[0]) == int or type(data[0]) == np.int32:\n",
    "        return(selectionSort(data))\n",
    "    else:\n",
    "        arr,arg = data\n",
    "        return(selectionSort(arr,arg))"
   ]
  },
  {
   "cell_type": "code",
   "execution_count": 34,
   "metadata": {},
   "outputs": [],
   "source": [
    "testVals = [\n",
    "    ([9,8,7,6,5,4,3,2]),\n",
    "    ([123,46,3,78,2,3]),\n",
    "    np.array([34,68,13,64,86]),\n",
    "    (np.array([[3,2,1],[6,5,4], [9,8,7]]), '0'),\n",
    "    (np.array([[3,2,1],[6,5,4], [9,8,7]]), '1'),\n",
    "    ((pd.DataFrame([[3,2,1],[6,5,4], [9,8,7]])), '1'),\n",
    "]\n",
    "\n",
    "expectedResults=[\n",
    "    [2,3,4,5,6,7,8,9],\n",
    "    [2, 3, 3, 46, 78, 123],\n",
    "    np.array([13, 34, 64, 68, 86]),\n",
    "    np.array([[3, 2, 1],[6, 5, 4],[9, 8, 7]]),\n",
    "    np.array([[1., 2., 3.],[4., 5., 6.],[7., 8., 9.]]),\n",
    "    ((pd.DataFrame([[1,2,3],[4,5,6], [7,8,9]])))]\n",
    "\n",
    "results = testFunc(testVals, expectedResults, testBuffer)"
   ]
  },
  {
   "cell_type": "code",
   "execution_count": 35,
   "metadata": {},
   "outputs": [
    {
     "name": "stdout",
     "output_type": "stream",
     "text": [
      "Test 1 passes. \n",
      "Test 2 passes. \n",
      "Test 3 passes. \n",
      "Test 4 passes. \n",
      "Test 5 passes. \n",
      "Test 6 passes. \n",
      "\n"
     ]
    }
   ],
   "source": [
    "print(results.getLongResults())"
   ]
  },
  {
   "cell_type": "markdown",
   "metadata": {},
   "source": [
    "<br/>"
   ]
  }
 ],
 "metadata": {
  "kernelspec": {
   "display_name": "Python 3",
   "language": "python",
   "name": "python3"
  },
  "language_info": {
   "codemirror_mode": {
    "name": "ipython",
    "version": 3
   },
   "file_extension": ".py",
   "mimetype": "text/x-python",
   "name": "python",
   "nbconvert_exporter": "python",
   "pygments_lexer": "ipython3",
   "version": "3.7.2"
  }
 },
 "nbformat": 4,
 "nbformat_minor": 2
}
