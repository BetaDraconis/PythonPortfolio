{
 "cells": [
  {
   "cell_type": "markdown",
   "metadata": {},
   "source": [
    "##### Set-up code"
   ]
  },
  {
   "cell_type": "code",
   "execution_count": 1,
   "metadata": {},
   "outputs": [],
   "source": [
    "from TestPackage.TestCode import *\n",
    "import numpy as np\n",
    "import pandas as pd\n",
    "import sys\n",
    "import copy"
   ]
  },
  {
   "cell_type": "markdown",
   "metadata": {},
   "source": [
    "<br/>"
   ]
  },
  {
   "cell_type": "markdown",
   "metadata": {},
   "source": [
    "# Merge Sort"
   ]
  },
  {
   "cell_type": "markdown",
   "metadata": {},
   "source": [
    "## Problem"
   ]
  },
  {
   "cell_type": "markdown",
   "metadata": {},
   "source": [
    ">Another intermediate sorting algorithm that is very common is merge sort. Like quick sort, merge sort also uses a divide-and-conquer, recursive methodology to sort an array. It takes advantage of the fact that it is relatively easy to sort two arrays as long as each is sorted in the first place. But we'll start with only one array as input, so how do we get to two sorted arrays from that? Well, we can recursively divide the original input in two until we reach the base case of an array with one item. A single-item array is naturally sorted, so then we can start combining. This combination will unwind the recursive calls that split the original array, eventually producing a final sorted array of all the elements. \n",
    "\n",
    ">The steps of merge sort, then, are: <br/> <br/>  1) Recursively split the input array in half until a sub-array with only one element is produced.  <br/> <br/>  2) Merge each sorted sub-array together to produce the final sorted array.<br/> <br/> Merge sort is an efficient sorting method, with time complexity of O(nlog(n)). This algorithm is popular because it is performant and relatively easy to implement.\n",
    "\n",
    ">**Instructions:** Write a function mergeSort which takes an array of integers as input and returns an array of these integers in sorted order from least to greatest. A good way to implement this is to write one function, for instance merge, which is responsible for merging two sorted arrays, and another function, for instance mergeSort, which is responsible for the recursion that produces single-item arrays to feed into merge. Good luck!\n",
    "\n",
    "\n",
    "Source: [FreeCodeCamp - 25/05/2019](https://learn.freecodecamp.org/coding-interview-prep/algorithms/implement-merge-sort)\n",
    "\n",
    "-----------"
   ]
  },
  {
   "cell_type": "markdown",
   "metadata": {},
   "source": [
    "## Solution"
   ]
  },
  {
   "cell_type": "code",
   "execution_count": 233,
   "metadata": {},
   "outputs": [],
   "source": [
    "def mergeSort(arr, axis = 'none', returnList = [], state = -1):\n",
    "    leftSplit = []\n",
    "    rightSplit = []\n",
    "    oddSplit = []\n",
    "    arrLength = (len(arr))\n",
    "    check = False\n",
    "    returnType = ''\n",
    "    \n",
    "    if state == -1:\n",
    "        if len(arr) <=1:\n",
    "            return arr\n",
    "        else:\n",
    "            returnList = []\n",
    "            state+=1\n",
    "    state+=1\n",
    "    \n",
    "    if type(arr) ==pd.core.frame.DataFrame:\n",
    "        arr = arr.values\n",
    "        returnType = 'DataFrame'\n",
    "    \n",
    "    if type(arr) == np.ndarray:\n",
    "        if axis == 'none':\n",
    "            arr = arr.flatten()\n",
    "        \n",
    "        elif str(axis) == '0':\n",
    "            returnArr = np.zeros((len(arr[0]),1))\n",
    "            hSplit = np.hsplit(arr, len(arr[0]))\n",
    "            for aSlice in hSplit:\n",
    "                sortedSlice = np.reshape(mergeSort(aSlice), (aSlice.shape[0],1))\n",
    "                returnArr = np.hstack((returnArr, sortedSlice))\n",
    "            if returnType == 'DataFrame':\n",
    "                return pd.DataFrame((returnArr[:,1:]))\n",
    "            else:\n",
    "                check = True\n",
    "                return (returnArr[:,1:])\n",
    "        \n",
    "        elif str(axis) == '1':\n",
    "            returnArr = np.zeros(len(arr))\n",
    "            vSplit = np.vsplit(arr, len(arr))\n",
    "            for aSlice in vSplit:\n",
    "                returnArr = np.vstack((returnArr, mergeSort(aSlice[0])))\n",
    "            if returnType == 'DataFrame':\n",
    "                return pd.DataFrame(returnArr[1:,:])\n",
    "            else:\n",
    "                check = True\n",
    "                return (returnArr[1:,:])  \n",
    "            \n",
    "    if check == False:\n",
    "        if arrLength != 1:\n",
    "            if arrLength%2 !=0:\n",
    "                oddSplit = [arr[-1]]\n",
    "                arr = arr[:-1]\n",
    "            leftSplit = arr[0:int(arrLength/2)]\n",
    "            rightSplit = arr[int(arrLength/2):]\n",
    "            if oddSplit != []:\n",
    "                    returnList.append(oddSplit)\n",
    "                    \n",
    "            if len(leftSplit) == len(rightSplit) == 1:\n",
    "                if leftSplit[0] <= rightSplit[0]:\n",
    "                    returnList.append([leftSplit[0], rightSplit[0]])\n",
    "                else:\n",
    "                    returnList.append([rightSplit[0], leftSplit[0]])\n",
    "            else:\n",
    "                mergeSort(leftSplit, returnList = returnList, state=state)\n",
    "                mergeSort(rightSplit, returnList = returnList, state=state)\n",
    "            \n",
    "        if state == 1:\n",
    "            if len(returnList)%2 != 0:\n",
    "                returnList[0] = merge(returnList[0], returnList[1])\n",
    "                returnList.pop(1)\n",
    "            while len(returnList) !=1:\n",
    "                tempReturnList = []\n",
    "                for i in range(int(len(returnList)/2)):\n",
    "                    tempReturnList.append(merge(returnList[2*i], returnList[(2*i)+1]))\n",
    "                returnList = tempReturnList\n",
    "        return returnList[0]"
   ]
  },
  {
   "cell_type": "code",
   "execution_count": 234,
   "metadata": {},
   "outputs": [],
   "source": [
    "def merge(arr1, arr2):\n",
    "    tempSortList=[]\n",
    "    returnArr = []\n",
    "    j = 0\n",
    "    k = 0\n",
    "    while j < len(arr1) or k < len(arr2):\n",
    "        if j == len(arr1):\n",
    "            tempSortList.append(arr2[k])\n",
    "            k+=1\n",
    "        elif k== len(arr2):\n",
    "            tempSortList.append(arr1[j])\n",
    "            j+=1\n",
    "        else:\n",
    "            if arr1[j] < arr2[k]:\n",
    "                tempSortList.append(arr1[j])\n",
    "                j+=1\n",
    "            elif arr1[j] == arr2[k]:\n",
    "                tempSortList.append(arr1[j])\n",
    "                tempSortList.append(arr2[k])\n",
    "                j+=1\n",
    "                k+=1\n",
    "            else:\n",
    "                tempSortList.append(arr2[k])\n",
    "                k+=1\n",
    "    return tempSortList"
   ]
  },
  {
   "cell_type": "code",
   "execution_count": 235,
   "metadata": {},
   "outputs": [
    {
     "data": {
      "text/plain": [
       "array([[1., 2., 3.],\n",
       "       [4., 5., 6.],\n",
       "       [7., 8., 9.]])"
      ]
     },
     "execution_count": 235,
     "metadata": {},
     "output_type": "execute_result"
    }
   ],
   "source": [
    "mergeSort(np.array([[3,2,1],[6,5,4], [9,8,7]]), '1')"
   ]
  },
  {
   "cell_type": "code",
   "execution_count": 236,
   "metadata": {},
   "outputs": [],
   "source": [
    "def testBuffer(data):\n",
    "    aList = []\n",
    "    if type(data[0]) == int or type(data[0]) == np.int32:\n",
    "        return(mergeSort(data))\n",
    "    else:\n",
    "        arr,arg = data\n",
    "        return(mergeSort(arr,arg))"
   ]
  },
  {
   "cell_type": "code",
   "execution_count": 237,
   "metadata": {},
   "outputs": [],
   "source": [
    "testVals = [\n",
    "    ([9,8,7,6,5,4,3,2]),\n",
    "    ([123,46,3,78,2,3]),\n",
    "    np.array([34,68,13,64,86]),\n",
    "    (np.array([[3,2,1],[6,5,4], [9,8,7]]), '0'),\n",
    "    (np.array([[3,2,1],[6,5,4], [9,8,7]]), '1'),\n",
    "    ((pd.DataFrame([[3,2,1],[6,5,4], [9,8,7]])), '1'),\n",
    "]\n",
    "\n",
    "expectedResults=[\n",
    "    [2,3,4,5,6,7,8,9],\n",
    "    [2, 3, 3, 46, 78, 123],\n",
    "    np.array([13, 34, 64, 68, 86]),\n",
    "    np.array([[3, 2, 1],[6, 5, 4],[9, 8, 7]]),\n",
    "    np.array([[1., 2., 3.],[4., 5., 6.],[7., 8., 9.]]),\n",
    "    ((pd.DataFrame([[1,2,3],[4,5,6], [7,8,9]])))]\n",
    "\n",
    "results = testFunc(testVals, expectedResults, testBuffer)"
   ]
  },
  {
   "cell_type": "code",
   "execution_count": 238,
   "metadata": {},
   "outputs": [
    {
     "name": "stdout",
     "output_type": "stream",
     "text": [
      "Test 1 passes. \n",
      "Test 2 passes. \n",
      "Test 3 passes. \n",
      "Test 4 passes. \n",
      "Test 5 passes. \n",
      "Test 6 passes. \n",
      "\n"
     ]
    }
   ],
   "source": [
    "print(results.getLongResults())"
   ]
  },
  {
   "cell_type": "markdown",
   "metadata": {},
   "source": [
    "<b/>"
   ]
  }
 ],
 "metadata": {
  "kernelspec": {
   "display_name": "Python 3",
   "language": "python",
   "name": "python3"
  },
  "language_info": {
   "codemirror_mode": {
    "name": "ipython",
    "version": 3
   },
   "file_extension": ".py",
   "mimetype": "text/x-python",
   "name": "python",
   "nbconvert_exporter": "python",
   "pygments_lexer": "ipython3",
   "version": "3.7.2"
  }
 },
 "nbformat": 4,
 "nbformat_minor": 2
}
