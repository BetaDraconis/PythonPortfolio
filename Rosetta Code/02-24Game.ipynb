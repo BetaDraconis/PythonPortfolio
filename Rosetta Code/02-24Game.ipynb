{
 "cells": [
  {
   "cell_type": "markdown",
   "metadata": {},
   "source": [
    "##### Set-up code"
   ]
  },
  {
   "cell_type": "code",
   "execution_count": 1,
   "metadata": {},
   "outputs": [],
   "source": [
    "#from TestPackage.TestCode import *\n",
    "import numpy as np\n",
    "import pandas as pd\n",
    "import sys"
   ]
  },
  {
   "cell_type": "markdown",
   "metadata": {},
   "source": [
    "<br/>"
   ]
  },
  {
   "cell_type": "markdown",
   "metadata": {},
   "source": [
    "# 24 Game"
   ]
  },
  {
   "cell_type": "markdown",
   "metadata": {},
   "source": [
    "## Problem"
   ]
  },
  {
   "cell_type": "markdown",
   "metadata": {},
   "source": [
    ">Implement a function that takes a string of four digits as its argument, with each digit from 1 ──► 9 (inclusive) with repetitions allowed, and returns an arithmetic expression that evaluates to the number 24. If no such solution exists, return \"no solution exists.\"\n",
    "\n",
    "\n",
    ">Rules:\n",
    "1. Only the following operators/functions are allowed: multiplication, division, addition, subtraction\n",
    "2. Division should use floating point or rational arithmetic, etc, to preserve remainders.\n",
    "3. Forming multiple digit numbers from the supplied digits is disallowed. (So an answer of 12+12 when given 1, 2, 2, and 1 is wrong).\n",
    "4. The order of the digits when given does not have to be preserved.\n",
    "\n",
    "Source: [FreeCodeCamp - 29/05/2019](https://learn.freecodecamp.org/coding-interview-prep/rosetta-code/24-game)\n",
    "\n",
    "\n",
    "-----------"
   ]
  },
  {
   "cell_type": "markdown",
   "metadata": {},
   "source": [
    "## Solution"
   ]
  },
  {
   "cell_type": "code",
   "execution_count": 282,
   "metadata": {},
   "outputs": [],
   "source": [
    "def permutation(string, word = '', charList = [], wordList = [], count = -1):\n",
    "    if len(string) == 0:\n",
    "        return ['']\n",
    "    else:\n",
    "        if count == -1:\n",
    "            charList = list(string)\n",
    "            wordList.clear()\n",
    "            count+=1    \n",
    "\n",
    "        elif len(charList) == 0:\n",
    "            count+=1\n",
    "            if count == len(string):\n",
    "                wordList.append(list(word))\n",
    "                return wordList.copy()\n",
    "            else:\n",
    "                wordList.append(list(word))\n",
    "\n",
    "        for char in charList:\n",
    "            word+=char\n",
    "            tempList = charList.copy()\n",
    "            tempList.remove(char)\n",
    "            noRepeats(string, word, tempList, wordList, count)\n",
    "            count+=1\n",
    "            word =word[0:len(word)-1]\n",
    "    return (wordList.copy())"
   ]
  },
  {
   "cell_type": "code",
   "execution_count": 283,
   "metadata": {},
   "outputs": [],
   "source": [
    "def combination(string,length):    \n",
    "    S = set(string)\n",
    "    opComb = []\n",
    "    collect = set()\n",
    "    step = set([''])\n",
    "    while step:\n",
    "        step = set(a+b for a in step for b in S if len(a+b) <= length)\n",
    "        collect |= step\n",
    "    \n",
    "    for element in list(collect):\n",
    "        if len(element) == length:\n",
    "            opComb.append(list(element))\n",
    "    return opComb"
   ]
  },
  {
   "cell_type": "code",
   "execution_count": 284,
   "metadata": {},
   "outputs": [],
   "source": [
    "def game(string):\n",
    "    resultList = []\n",
    "    expressionList = []\n",
    "    numPerm = perm(string)\n",
    "    opComb = combination('+-/*', 3)\n",
    "    index = [0,2,4,6,8,10,12,14]\n",
    "    braketState = [\n",
    "    ['(', '', '', '', '', '', '', ')'],\n",
    "    ['(', '', '', ')', '(', '', '', ')'],\n",
    "    ['(', '', '', ')', '', '', '', ''],\n",
    "    ['', '', '', '', '(', '', '', ')'],\n",
    "    ['(', '', '', '', '', ')', '', ''],\n",
    "    ['', '', '(', '', '', '', '', ')'],\n",
    "    ]\n",
    "            \n",
    "    for numOrder in numPerm:\n",
    "        for opOrder in opComb:\n",
    "            string =['',numOrder[0],'' , opOrder[0] , '',numOrder[1],'' ,opOrder[1] ,'',numOrder[2],'', opOrder[2], '',numOrder[3],'']\n",
    "            for state in braketState:\n",
    "                copyString = string.copy()\n",
    "                for i in range(len(state)):\n",
    "                    copyString[index[i]]=state[i]\n",
    "                copyString=(''.join(copyString))\n",
    "                try:\n",
    "                    exec('resultList.append(({}))'.format(copyString))\n",
    "                    if resultList[-1] == 24:\n",
    "                        expressionList.append(copyString)\n",
    "                except ZeroDivisionError:\n",
    "                    None\n",
    "                resultList = []\n",
    "    if len(expressionList) >=1:\n",
    "        return expressionList\n",
    "    else:\n",
    "        print ('No')\n",
    "        return None"
   ]
  },
  {
   "cell_type": "code",
   "execution_count": 285,
   "metadata": {},
   "outputs": [],
   "source": [
    "expressions = game('1234')"
   ]
  },
  {
   "cell_type": "code",
   "execution_count": 286,
   "metadata": {},
   "outputs": [
    {
     "data": {
      "text/plain": [
       "['(1*2*3*4)', '(1*2)*(3*4)', '(1*2)*3*4']"
      ]
     },
     "execution_count": 286,
     "metadata": {},
     "output_type": "execute_result"
    }
   ],
   "source": [
    "expressions[0:3]"
   ]
  },
  {
   "cell_type": "markdown",
   "metadata": {},
   "source": [
    "<br/>"
   ]
  }
 ],
 "metadata": {
  "kernelspec": {
   "display_name": "Python 3",
   "language": "python",
   "name": "python3"
  },
  "language_info": {
   "codemirror_mode": {
    "name": "ipython",
    "version": 3
   },
   "file_extension": ".py",
   "mimetype": "text/x-python",
   "name": "python",
   "nbconvert_exporter": "python",
   "pygments_lexer": "ipython3",
   "version": "3.7.2"
  }
 },
 "nbformat": 4,
 "nbformat_minor": 2
}
