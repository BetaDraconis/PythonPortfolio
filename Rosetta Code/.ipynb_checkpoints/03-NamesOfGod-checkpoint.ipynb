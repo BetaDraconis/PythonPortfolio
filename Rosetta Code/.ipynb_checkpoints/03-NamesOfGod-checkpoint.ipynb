{
 "cells": [
  {
   "cell_type": "markdown",
   "metadata": {},
   "source": [
    "##### Set-up code"
   ]
  },
  {
   "cell_type": "code",
   "execution_count": 3,
   "metadata": {},
   "outputs": [],
   "source": [
    "#from TestPackage.TestCode import *\n",
    "import numpy as np\n",
    "import pandas as pd\n",
    "import sys"
   ]
  },
  {
   "cell_type": "markdown",
   "metadata": {},
   "source": [
    "<br/>"
   ]
  },
  {
   "cell_type": "markdown",
   "metadata": {},
   "source": [
    "# Names of God"
   ]
  },
  {
   "cell_type": "markdown",
   "metadata": {},
   "source": [
    "## Problem"
   ]
  },
  {
   "cell_type": "markdown",
   "metadata": {},
   "source": [
    ">This task is a variation of the short story by Arthur C. Clarke.\n",
    "(Solvers should be aware of the consequences of completing this task.)\n",
    "\n",
    "\n",
    ">In detail, to specify what is meant by a “name”:\n",
    "    - The integer 1 has 1 name “1”.\n",
    "    - The integer 2 has 2 names “1+1”, and “2”.\n",
    "    - The integer 3 has 3 names “1+1+1”, “2+1”, and “3”.\n",
    "    - The integer 4 has 5 names “1+1+1+1”, “2+1+1”, “2+2”, “3+1”, “4”.\n",
    "    - The integer 5 has 7 names “1+1+1+1+1”, “2+1+1+1”, “2+2+1”, “3+1+1”, “3+2”, “4+1”, “5”.\n",
    "\n",
    "\n",
    ">Where row n corresponds to integer n, and each column C in row m from left to right corresponds to the number of names beginning with C.\n",
    "\n",
    "\n",
    ">Optionally note that the sum of the n-th row P(n) is the integer partition function.\n",
    "\n",
    "\n",
    ">Task\n",
    "Implement a function that returns the sum of the n-th row.\n",
    "\n",
    "Source: [FreeCodeCamp - 29/05/2019](https://learn.freecodecamp.org/coding-interview-prep/rosetta-code/9-billion-names-of-god-the-integer)\n",
    "\n",
    "\n",
    "-----------"
   ]
  },
  {
   "cell_type": "markdown",
   "metadata": {},
   "source": [
    "## Solution"
   ]
  },
  {
   "cell_type": "code",
   "execution_count": 55,
   "metadata": {},
   "outputs": [],
   "source": [
    "def names(row, returnList = [], state = -1):\n",
    "    if state == -1:\n",
    "        returnList.clear()\n",
    "        returnList.append([row])\n",
    "        state+=1\n",
    "    \n",
    "    itt = np.arange(row-1,0,-1) \n",
    "    for element in itt:\n",
    "        split = row - element\n",
    "        val = [element, split]\n",
    "        if check(returnList, val):\n",
    "            returnList.append(val)\n",
    "        oneCount = 1\n",
    "        while split > 1:\n",
    "            split -=1\n",
    "            val = [element, split]\n",
    "            for i in range(oneCount):\n",
    "                val.append(1)\n",
    "            if check(returnList, val):\n",
    "                returnList.append(val)\n",
    "            oneCount +=1\n",
    "    return returnList    "
   ]
  },
  {
   "cell_type": "code",
   "execution_count": 56,
   "metadata": {},
   "outputs": [],
   "source": [
    "def check(returnList, val):\n",
    "    count = 0\n",
    "    for element in returnList:\n",
    "        if len(element) != len(val):\n",
    "            count+=1\n",
    "        elif set(element) != set(val):\n",
    "            count+=1\n",
    "        elif sorted(val) != sorted(element):\n",
    "            count+=1\n",
    "        else:\n",
    "            return False\n",
    "\n",
    "    if count == len(returnList):    \n",
    "        return True"
   ]
  },
  {
   "cell_type": "code",
   "execution_count": 62,
   "metadata": {},
   "outputs": [
    {
     "data": {
      "text/plain": [
       "[[5], [4, 1], [3, 2], [3, 1, 1], [2, 2, 1], [2, 1, 1, 1], [1, 1, 1, 1, 1]]"
      ]
     },
     "execution_count": 62,
     "metadata": {},
     "output_type": "execute_result"
    }
   ],
   "source": [
    "names(5)"
   ]
  }
 ],
 "metadata": {
  "kernelspec": {
   "display_name": "Python 3",
   "language": "python",
   "name": "python3"
  },
  "language_info": {
   "codemirror_mode": {
    "name": "ipython",
    "version": 3
   },
   "file_extension": ".py",
   "mimetype": "text/x-python",
   "name": "python",
   "nbconvert_exporter": "python",
   "pygments_lexer": "ipython3",
   "version": "3.7.2"
  }
 },
 "nbformat": 4,
 "nbformat_minor": 2
}
