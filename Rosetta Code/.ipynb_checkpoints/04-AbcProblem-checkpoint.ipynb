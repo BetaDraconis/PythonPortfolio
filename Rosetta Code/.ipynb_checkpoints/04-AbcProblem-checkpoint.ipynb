{
 "cells": [
  {
   "cell_type": "markdown",
   "metadata": {},
   "source": [
    "##### Set-up code"
   ]
  },
  {
   "cell_type": "code",
   "execution_count": 1,
   "metadata": {},
   "outputs": [],
   "source": [
    "#from TestPackage.TestCode import *\n",
    "import numpy as np\n",
    "import pandas as pd\n",
    "import sys"
   ]
  },
  {
   "cell_type": "markdown",
   "metadata": {},
   "source": [
    "<br/>"
   ]
  },
  {
   "cell_type": "markdown",
   "metadata": {},
   "source": [
    "# ABC Problem"
   ]
  },
  {
   "cell_type": "markdown",
   "metadata": {},
   "source": [
    "## Problem"
   ]
  },
  {
   "cell_type": "markdown",
   "metadata": {},
   "source": [
    ">You are given a collection of ABC blocks (e.g., childhood alphabet blocks). There are 20 blocks with two letters on each block. A complete alphabet is guaranteed amongst all sides of the blocks. The sample collection of blocks:\n",
    "\n",
    ">   \n",
    "    - (B O), (X K), (D Q), (C P), (N A)\n",
    "    - (G T), (R E), (T G), (Q D), (F S)\n",
    "    - (J W), (H U), (V I), (A N), (O B)\n",
    "    - (E R), (F S), (L Y), (P C), (Z M)\n",
    "    \n",
    "> Some rules to keep in mind:\n",
    "    - Once a letter on a block is used, that block cannot be used again.\n",
    "    - The function should be case-insensitive.\n",
    "\n",
    ">Implement a function that takes a string (word) and determines whether the word can be spelled with the given collection of blocks.\n",
    "\n",
    "Source: [FreeCodeCamp - 03/06/2019](https://learn.freecodecamp.org/coding-interview-prep/rosetta-code/abc-problem)\n",
    "\n",
    "\n",
    "-----------"
   ]
  },
  {
   "cell_type": "markdown",
   "metadata": {},
   "source": [
    "## Solution"
   ]
  },
  {
   "cell_type": "code",
   "execution_count": 161,
   "metadata": {},
   "outputs": [],
   "source": [
    "class block:\n",
    "    def __init__(self,letters, used = False):\n",
    "        self.firstLetter, self.secondLetter = letters\n",
    "        self.used = used\n",
    "        \n",
    "    def getLetters(self):\n",
    "        return (self.firstLetter, self.secondLetter)\n",
    "    \n",
    "    def getFirstLetter(self):\n",
    "        return self.firstLetter\n",
    "    \n",
    "    def getSecondLetter(self):\n",
    "        return self.secondLetter\n",
    "    \n",
    "    def getUsed(self):\n",
    "        return self.used\n",
    "    \n",
    "    def setUsed(self, state):\n",
    "        self.used = state"
   ]
  },
  {
   "cell_type": "code",
   "execution_count": 189,
   "metadata": {},
   "outputs": [],
   "source": [
    "class blockCollection:\n",
    "    def __init__(self, blockList = []):\n",
    "        self.blockList = blockList\n",
    "        \n",
    "    def addBlock(self, block):\n",
    "        self.blockList.append(block)\n",
    "    \n",
    "    def getBlockList(self):\n",
    "        return self.blockList\n",
    "    \n",
    "    def getBlockListPlain(self):\n",
    "        returnList = []\n",
    "        for item in self.blockList:\n",
    "            returnList.append(item.getLetters())\n",
    "        return returnList\n",
    "    \n",
    "    def letterSearch(self, letter):\n",
    "        returnList = []\n",
    "        for item in self.blockList:\n",
    "            if letter.upper() in item.getLetters():\n",
    "                returnList.append(item)\n",
    "        return returnList\n",
    "    \n",
    "    def resetUsed(self):\n",
    "        for element in self.blockList:\n",
    "            element.setUsed(False)"
   ]
  },
  {
   "cell_type": "code",
   "execution_count": 190,
   "metadata": {},
   "outputs": [],
   "source": [
    "blocks = [\n",
    "    ('B','O'), ('X','K'), ('D','Q'), ('C','P'), ('N','A'), \n",
    "    ('G','T'), ('R','E'), ('T','G'), ('Q','D'), ('F','S'),\n",
    "    ('J','W'), ('H','U'), ('V','I'), ('A','N'), ('O','B'),\n",
    "    ('E','R'), ('F','S'), ('L','Y'), ('P','C'), ('Z','M')\n",
    "]\n",
    "blockC1 = blockCollection()\n",
    "for element in blocks:\n",
    "    blockC1.addBlock(block(element))"
   ]
  },
  {
   "cell_type": "code",
   "execution_count": 191,
   "metadata": {},
   "outputs": [],
   "source": [
    "def canMakeWord(blockC, word):\n",
    "    \n",
    "    if len(word) ==0:\n",
    "        return False\n",
    "    \n",
    "    blockSet = set()\n",
    "    blockList = []\n",
    "    lettersFound = 0\n",
    "    \n",
    "    for letter in word:\n",
    "        foundBlocks = blockC.letterSearch(letter)\n",
    "        blockList.append(foundBlocks)\n",
    "        if len(foundBlocks) > 0:\n",
    "            lettersFound +=1\n",
    "        for element in foundBlocks:\n",
    "            blockSet.add(element)           \n",
    "    \n",
    "    if len(blockSet) < len(word) or lettersFound < len(word):\n",
    "        return False\n",
    "    else:\n",
    "        return wordBuild(blockList)"
   ]
  },
  {
   "cell_type": "code",
   "execution_count": 243,
   "metadata": {},
   "outputs": [],
   "source": [
    "def wordBuild(blockList):\n",
    "    i = 0\n",
    "    j = 0\n",
    "    check = True\n",
    "    check2 = True\n",
    "    indexList = []\n",
    "    \n",
    "    while check:\n",
    "        element = blockList[i]\n",
    "        while check2:\n",
    "            tryBlock = element[j]\n",
    "            if tryBlock.getUsed() == False:\n",
    "                tryBlock.setUsed(True)\n",
    "                i+=1\n",
    "                indexList.append(j)\n",
    "                j = 0\n",
    "                check2 = False\n",
    "            elif j >= len(element) - 1:\n",
    "                if i == 0:\n",
    "                    return False\n",
    "                else:\n",
    "                    i-=1\n",
    "                    if i == -1:\n",
    "                        return False\n",
    "                    else:\n",
    "                        for thing in blockList[i+1]:\n",
    "                            thing.setUsed(False)\n",
    "                    j = indexList[-1]\n",
    "                    indexList.pop(-1)\n",
    "                    check2 = False\n",
    "            else:\n",
    "                j+=1\n",
    "        \n",
    "        check2 = True\n",
    "        if i > len(blockList)-1:\n",
    "            return True"
   ]
  },
  {
   "cell_type": "code",
   "execution_count": 244,
   "metadata": {},
   "outputs": [
    {
     "data": {
      "text/plain": [
       "True"
      ]
     },
     "execution_count": 244,
     "metadata": {},
     "output_type": "execute_result"
    }
   ],
   "source": [
    "blockC1.resetUsed()\n",
    "canMakeWord(blockC1, 'confuse')"
   ]
  }
 ],
 "metadata": {
  "kernelspec": {
   "display_name": "Python 3",
   "language": "python",
   "name": "python3"
  },
  "language_info": {
   "codemirror_mode": {
    "name": "ipython",
    "version": 3
   },
   "file_extension": ".py",
   "mimetype": "text/x-python",
   "name": "python",
   "nbconvert_exporter": "python",
   "pygments_lexer": "ipython3",
   "version": "3.7.2"
  }
 },
 "nbformat": 4,
 "nbformat_minor": 2
}
